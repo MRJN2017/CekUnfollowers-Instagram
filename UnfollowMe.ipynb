{
 "cells": [
  {
   "cell_type": "code",
   "execution_count": 1,
   "metadata": {},
   "outputs": [],
   "source": [
    "import instaloader\n",
    "# Optionally, login or load session\n",
    "L = instaloader.Instaloader()\n",
    "\n",
    "username = ''\n",
    "PASSWORD = ''\n",
    "L.login(username, PASSWORD)        # (login)\n",
    "profile = instaloader.Profile.from_username(L.context, username)\n",
    "\n"
   ]
  },
  {
   "cell_type": "code",
   "execution_count": null,
   "metadata": {},
   "outputs": [],
   "source": [
    "# Mendapatkan profil pengguna\n",
    "\n",
    "# Mengambil daftar following\n",
    "followings = profile.get_followees()\n",
    "\n",
    "# Mencetak daftar following\n",
    "following_list = []\n",
    "for followee in followings:\n",
    "    following_list.append(followee.username)\n",
    "    # print(followee.username)\n",
    "\n",
    "# Simpan daftar following ke file (opsional)\n",
    "with open('following_list.txt', 'w') as file:\n",
    "    for followee in following_list:\n",
    "        file.write(followee + '\\n')"
   ]
  },
  {
   "cell_type": "code",
   "execution_count": null,
   "metadata": {},
   "outputs": [],
   "source": [
    "# Mengambil daftar followers\n",
    "followers = profile.get_followers()\n",
    "\n",
    "# Mencetak daftar followers\n",
    "followers_list = []\n",
    "for follower in followers:\n",
    "    followers_list.append(follower.username)\n",
    "    # print(follower.username)\n",
    "\n",
    "# Simpan daftar followers ke file (opsional)\n",
    "with open('followers_list.txt', 'w') as file:\n",
    "    for follower in followers_list:\n",
    "        file.write(follower + '\\n')"
   ]
  },
  {
   "cell_type": "code",
   "execution_count": 2,
   "metadata": {},
   "outputs": [
    {
     "name": "stdout",
     "output_type": "stream",
     "text": [
      "\n",
      "Following yang tidak menjadi Followers:\n",
      "agustyna04\n",
      "rikardopangloli\n",
      "simbuangdina\n",
      "joel.arki\n",
      "henypppp\n",
      "sil.lyme2.0\n",
      "aldaa_tndiiiii\n",
      "caesaria_dharma\n"
     ]
    }
   ],
   "source": [
    "\n",
    "# Mengambil daftar followers\n",
    "followers = profile.get_followers()\n",
    "followers_set = {follower.username for follower in followers}\n",
    "\n",
    "# Mengambil daftar following\n",
    "followings = profile.get_followees()\n",
    "followings_set = {followee.username for followee in followings}\n",
    "\n",
    "# Mengecek apakah following juga ada di followers\n",
    "mutual_follow = followers_set.intersection(followings_set)\n",
    "\n",
    "# Daftar following yang tidak ada di followers\n",
    "not_following_back = followings_set - followers_set\n",
    "print(\"\\nFollowing yang tidak menjadi Followers:\")\n",
    "for user in not_following_back:\n",
    "    print(user)\n"
   ]
  }
 ],
 "metadata": {
  "kernelspec": {
   "display_name": "Python 3",
   "language": "python",
   "name": "python3"
  },
  "language_info": {
   "codemirror_mode": {
    "name": "ipython",
    "version": 3
   },
   "file_extension": ".py",
   "mimetype": "text/x-python",
   "name": "python",
   "nbconvert_exporter": "python",
   "pygments_lexer": "ipython3",
   "version": "3.9.2rc1"
  }
 },
 "nbformat": 4,
 "nbformat_minor": 2
}
